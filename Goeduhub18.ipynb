{
 "cells": [
  {
   "cell_type": "code",
   "execution_count": 5,
   "metadata": {},
   "outputs": [],
   "source": [
    "import tkinter as tk"
   ]
  },
  {
   "cell_type": "code",
   "execution_count": 4,
   "metadata": {},
   "outputs": [],
   "source": [
    "window= tkinter.Tk()\n",
    "window.title(\"Sahil Parmar\")\n",
    "label = tkinter.Label(window, text = \"hello\").pack() #-->To adjusing the text\n",
    "window.mainloop()"
   ]
  },
  {
   "cell_type": "code",
   "execution_count": 13,
   "metadata": {},
   "outputs": [],
   "source": [
    "var = tk.Tk()\n",
    "var.title(\"Counting seconds\")\n",
    "button = tk.Button(var, text = \"Sahil Parmar\", width = 50, bg = \"blue\")\n",
    "var.geometry(\"350x200\")\n",
    "button.pack\n",
    "var.mainloop()"
   ]
  },
  {
   "cell_type": "code",
   "execution_count": 29,
   "metadata": {},
   "outputs": [],
   "source": [
    "from tkinter import *\n",
    "from tkinter import messagebox\n",
    "window = Tk()\n",
    "txt = Entry(window, width = 15)\n",
    "txt.grid(column = 2, row = 0)\n",
    "def clicked():\n",
    "    text = \"Welcome to \" + txt.get()\n",
    "    l1.configure(text = text)\n",
    "# def message():\n",
    "#     messagebox.info(\"title\", \"Hello everyone\")\n",
    "bt = Button(window, text = \"Enter\", bg = \"blue\", fg = \"white\", command = clicked)\n",
    "l1 = Label(window, text = \"Sahil\")\n",
    "window.geometry(\"350x200\")\n",
    "bt.grid(column = 1, row = 0)\n",
    "l1.grid(column = 0, row = 0)\n",
    "window.mainloop()"
   ]
  },
  {
   "cell_type": "code",
   "execution_count": 26,
   "metadata": {},
   "outputs": [],
   "source": [
    "from tkinter.ttk import *\n",
    "window = Tk()\n",
    "combo = Combobox(window)\n",
    "combo[\"values\"] = (\"Ahmedabad\",\"Surat\", \"Vadodara\", \"Jamnagar\")\n",
    "combo.grid(column = 0, row = 0)\n",
    "window.mainloop()"
   ]
  },
  {
   "cell_type": "code",
   "execution_count": 33,
   "metadata": {},
   "outputs": [],
   "source": [
    "from tkinter import *\n",
    "from tkinter.ttk import *\n",
    "\n",
    "window = Tk()\n",
    "window.geometry(\"312x321\")\n",
    "window.title(\"Calculator\")\n",
    "window.mainloop()"
   ]
  },
  {
   "cell_type": "code",
   "execution_count": null,
   "metadata": {},
   "outputs": [],
   "source": []
  }
 ],
 "metadata": {
  "kernelspec": {
   "display_name": "Python 3",
   "language": "python",
   "name": "python3"
  },
  "language_info": {
   "codemirror_mode": {
    "name": "ipython",
    "version": 3
   },
   "file_extension": ".py",
   "mimetype": "text/x-python",
   "name": "python",
   "nbconvert_exporter": "python",
   "pygments_lexer": "ipython3",
   "version": "3.8.5"
  }
 },
 "nbformat": 4,
 "nbformat_minor": 4
}
